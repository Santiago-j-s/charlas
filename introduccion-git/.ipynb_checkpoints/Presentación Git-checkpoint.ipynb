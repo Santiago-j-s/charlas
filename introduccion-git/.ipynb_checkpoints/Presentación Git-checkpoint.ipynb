{
 "cells": [
  {
   "cell_type": "markdown",
   "metadata": {
    "slideshow": {
     "slide_type": "slide"
    }
   },
   "source": [
    "# Control de versiones con Git"
   ]
  },
  {
   "cell_type": "markdown",
   "metadata": {
    "slideshow": {
     "slide_type": "slide"
    }
   },
   "source": [
    "# Sistemas de control de versiones"
   ]
  },
  {
   "cell_type": "markdown",
   "metadata": {
    "slideshow": {
     "slide_type": "slide"
    }
   },
   "source": [
    "## ¿Qué es Git?\n",
    "<img src=\"xkcd.git\" />"
   ]
  },
  {
   "cell_type": "markdown",
   "metadata": {
    "slideshow": {
     "slide_type": "slide"
    }
   },
   "source": [
    "## Cómo instalarlo"
   ]
  },
  {
   "cell_type": "markdown",
   "metadata": {
    "slideshow": {
     "slide_type": "subslide"
    }
   },
   "source": [
    "### Windows\n",
    "http://msysgit.github.io/"
   ]
  },
  {
   "cell_type": "markdown",
   "metadata": {
    "slideshow": {
     "slide_type": "subslide"
    }
   },
   "source": [
    "### Linux\n",
    "#### Debian y derivados (Ubuntu, Mint)\n",
    "`> sudo apt install git`\n",
    "\n",
    "#### Red Hat, Suse...\n",
    "`> sudo yum install git`"
   ]
  },
  {
   "cell_type": "markdown",
   "metadata": {
    "slideshow": {
     "slide_type": "subslide"
    }
   },
   "source": [
    "### Mac\n",
    "https://git-scm.com/download/mac"
   ]
  },
  {
   "cell_type": "code",
   "execution_count": 1,
   "metadata": {
    "collapsed": true,
    "slideshow": {
     "slide_type": "notes"
    }
   },
   "outputs": [],
   "source": [
    "# - Esto es git. Permite administrar el trabajo colaborativo en proyectos mediante un hermoso\n",
    "# modelo de árbol distribuido basado en la teoría de grafos.\n",
    "\n",
    "# - Genial ¿y como se usa?\n",
    "\n",
    "# - Ni idea. Solo memoriza estos comandos de terminal y usalos cuando quieras sincronizar.\n",
    "# - Si tienes algún error guarda tu trabajo en otro lado, borra el proyecto y descarga una copia nueva.\n",
    "\n",
    "# Contar un poco de la historia de git\n",
    "# Torvalds, Linux, BitKeeper, Mercurial, Software Libre, etc.\n",
    "\n",
    "# Explicar la diferencia entre un sistema de control de versiones *distribuido* y uno *centralizado* (SVN)\n",
    "# Ventajas, desventajas\n",
    "\n",
    "# Posibles otros temas a mencionar (Didn't know, me falta investigar más):\n",
    "# ¿Mencionar monorepos?\n",
    "# Explicar diferencias entre guardar diffs (SVN) y guardar snapshots (Git, Mercurial)"
   ]
  },
  {
   "cell_type": "markdown",
   "metadata": {
    "slideshow": {
     "slide_type": "slide"
    }
   },
   "source": [
    "### Creando un nuevo repositorio\n",
    "```bash\n",
    "> mkdir repo\n",
    "> cd repo\n",
    "> git init\n",
    "```"
   ]
  },
  {
   "cell_type": "markdown",
   "metadata": {
    "slideshow": {
     "slide_type": "slide"
    }
   },
   "source": [
    "# Logs"
   ]
  },
  {
   "cell_type": "markdown",
   "metadata": {
    "slideshow": {
     "slide_type": "subslide"
    }
   },
   "source": [
    "```bash\n",
    "> git log\n",
    "```"
   ]
  },
  {
   "cell_type": "markdown",
   "metadata": {
    "slideshow": {
     "slide_type": "fragment"
    }
   },
   "source": [
    "```bash\n",
    "> git log --oneline --decorate --graph\n",
    "```"
   ]
  },
  {
   "cell_type": "markdown",
   "metadata": {
    "slideshow": {
     "slide_type": "fragment"
    }
   },
   "source": [
    "```bash\n",
    "> git log --short\n",
    "```"
   ]
  },
  {
   "cell_type": "markdown",
   "metadata": {
    "slideshow": {
     "slide_type": "fragment"
    }
   },
   "source": [
    "```bash\n",
    "> git log --stat\n",
    "```"
   ]
  },
  {
   "cell_type": "markdown",
   "metadata": {
    "slideshow": {
     "slide_type": "fragment"
    }
   },
   "source": [
    "```bash\n",
    "> git blame\n",
    "```"
   ]
  },
  {
   "cell_type": "code",
   "execution_count": 2,
   "metadata": {
    "collapsed": true,
    "slideshow": {
     "slide_type": "notes"
    }
   },
   "outputs": [],
   "source": [
    "# Ver estado\n",
    "# Crear archivo\n",
    "# Stagear archivo\n",
    "# Ver estado\n",
    "# Commit\n",
    "# Ver estado"
   ]
  },
  {
   "cell_type": "markdown",
   "metadata": {
    "slideshow": {
     "slide_type": "slide"
    }
   },
   "source": [
    "## Sistemas de administración de repositorios\n",
    "* Github\n",
    "* Gitlab\n",
    "* Bitbucket (Atlassian)"
   ]
  },
  {
   "cell_type": "markdown",
   "metadata": {
    "slideshow": {
     "slide_type": "slide"
    }
   },
   "source": [
    "## Conceptos\n",
    "* Push\n",
    "* Commit\n",
    "* Pull Request\n",
    "* Branches\n",
    "* Conflictos\n"
   ]
  },
  {
   "cell_type": "markdown",
   "metadata": {
    "slideshow": {
     "slide_type": "slide"
    }
   },
   "source": [
    "## ¡A tener en cuenta!\n",
    "\n",
    "* Nunca pushear a master\n",
    "* Cuidado con la información privada\n"
   ]
  },
  {
   "cell_type": "markdown",
   "metadata": {
    "slideshow": {
     "slide_type": "slide"
    }
   },
   "source": [
    "### Explicar como contribuir a proyectos\n",
    "* CONTRIBUTING.md"
   ]
  }
 ],
 "metadata": {
  "celltoolbar": "Slideshow",
  "kernelspec": {
   "display_name": "Python 3",
   "language": "python",
   "name": "python3"
  },
  "language_info": {
   "codemirror_mode": {
    "name": "ipython",
    "version": 3
   },
   "file_extension": ".py",
   "mimetype": "text/x-python",
   "name": "python",
   "nbconvert_exporter": "python",
   "pygments_lexer": "ipython3",
   "version": "3.5.2"
  }
 },
 "nbformat": 4,
 "nbformat_minor": 2
}
